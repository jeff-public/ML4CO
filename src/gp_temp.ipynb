{
 "cells": [
  {
   "cell_type": "code",
   "execution_count": 3,
   "metadata": {},
   "outputs": [],
   "source": [
    "import gurobipy as gp"
   ]
  },
  {
   "cell_type": "code",
   "execution_count": 4,
   "metadata": {},
   "outputs": [
    {
     "name": "stdout",
     "output_type": "stream",
     "text": [
      "Read MPS format model from file ./../instances/training/parents/SC_10.mps\n",
      "Reading time = 0.01 seconds\n",
      "SC_10: 1378 rows, 989 columns, 13837 nonzeros\n"
     ]
    }
   ],
   "source": [
    "model = gp.read(\"./../instances/training/parents/SC_10.mps\")"
   ]
  },
  {
   "cell_type": "code",
   "execution_count": 5,
   "metadata": {},
   "outputs": [
    {
     "ename": "TypeError",
     "evalue": "getGenConstrMax() takes exactly 2 positional arguments (1 given)",
     "output_type": "error",
     "traceback": [
      "\u001b[1;31m---------------------------------------------------------------------------\u001b[0m",
      "\u001b[1;31mTypeError\u001b[0m                                 Traceback (most recent call last)",
      "Cell \u001b[1;32mIn[5], line 1\u001b[0m\n\u001b[1;32m----> 1\u001b[0m \u001b[43mmodel\u001b[49m\u001b[38;5;241;43m.\u001b[39;49m\u001b[43mgetGenConstrMax\u001b[49m\u001b[43m(\u001b[49m\u001b[43m)\u001b[49m\n",
      "File \u001b[1;32msrc\\\\gurobipy\\\\model.pxi:5974\u001b[0m, in \u001b[0;36mgurobipy.Model.getGenConstrMax\u001b[1;34m()\u001b[0m\n",
      "\u001b[1;31mTypeError\u001b[0m: getGenConstrMax() takes exactly 2 positional arguments (1 given)"
     ]
    }
   ],
   "source": [
    "mode"
   ]
  }
 ],
 "metadata": {
  "kernelspec": {
   "display_name": "PyG-gpu",
   "language": "python",
   "name": "python3"
  },
  "language_info": {
   "codemirror_mode": {
    "name": "ipython",
    "version": 3
   },
   "file_extension": ".py",
   "mimetype": "text/x-python",
   "name": "python",
   "nbconvert_exporter": "python",
   "pygments_lexer": "ipython3",
   "version": "3.10.14"
  }
 },
 "nbformat": 4,
 "nbformat_minor": 2
}
