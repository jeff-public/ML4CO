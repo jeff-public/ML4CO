{
 "cells": [
  {
   "cell_type": "code",
   "execution_count": 1,
   "metadata": {},
   "outputs": [],
   "source": [
    "import gurobipy as gp"
   ]
  },
  {
   "cell_type": "code",
   "execution_count": 2,
   "metadata": {},
   "outputs": [
    {
     "name": "stdout",
     "output_type": "stream",
     "text": [
      "Set parameter Username\n",
      "Academic license - for non-commercial use only - expires 2025-06-17\n",
      "Read MPS format model from file ./../instances/training/parents/SC_10.mps\n",
      "Reading time = 0.01 seconds\n",
      "SC_10: 1378 rows, 989 columns, 13837 nonzeros\n"
     ]
    }
   ],
   "source": [
    "model = gp.read(\"./../instances/training/parents/SC_10.mps\")"
   ]
  }
 ],
 "metadata": {
  "kernelspec": {
   "display_name": "PyG-gpu",
   "language": "python",
   "name": "python3"
  },
  "language_info": {
   "codemirror_mode": {
    "name": "ipython",
    "version": 3
   },
   "file_extension": ".py",
   "mimetype": "text/x-python",
   "name": "python",
   "nbconvert_exporter": "python",
   "pygments_lexer": "ipython3",
   "version": "3.10.14"
  }
 },
 "nbformat": 4,
 "nbformat_minor": 2
}
