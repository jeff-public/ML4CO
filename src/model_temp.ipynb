{
 "cells": [
  {
   "cell_type": "code",
   "execution_count": 12,
   "metadata": {},
   "outputs": [],
   "source": [
    "import os\n",
    "import time\n",
    "import numpy as np\n",
    "import random\n",
    "import torch\n",
    "import torch.nn as nn\n",
    "from torch_geometric.loader import DataLoader\n",
    "from InterleavedGCNN import InterleavedGCNN\n",
    "from GraphDataset import GraphDataset"
   ]
  },
  {
   "cell_type": "code",
   "execution_count": 74,
   "metadata": {},
   "outputs": [],
   "source": [
    "# Load dataset\n",
    "train_dir = f'./../dataset/training/parent_graphs'\n",
    "train_data = GraphDataset(root=train_dir, data_list=[])\n",
    "train_loader = DataLoader(train_data, batch_size=1, shuffle=True)"
   ]
  },
  {
   "cell_type": "code",
   "execution_count": 75,
   "metadata": {},
   "outputs": [
    {
     "data": {
      "text/plain": [
       "HeteroData(\n",
       "  name={ ILP='SC_1.mps' },\n",
       "  var_nodes={\n",
       "    x=[542, 3],\n",
       "    x_sub_opt=[542],\n",
       "    mask=[542],\n",
       "    prob_divisor=[1],\n",
       "    prob_dividend=[1],\n",
       "    prob=[1],\n",
       "  },\n",
       "  constr_nodes={ x=[449, 7] },\n",
       "  (var_nodes, in, constr_nodes)={\n",
       "    edge_index=[2, 4413],\n",
       "    edge_attr=[4413, 1],\n",
       "  },\n",
       "  (constr_nodes, rev_in, var_nodes)={\n",
       "    edge_index=[2, 4413],\n",
       "    edge_attr=[4413, 1],\n",
       "  }\n",
       ")"
      ]
     },
     "execution_count": 75,
     "metadata": {},
     "output_type": "execute_result"
    }
   ],
   "source": [
    "data = train_loader.dataset[249]\n",
    "data"
   ]
  }
 ],
 "metadata": {
  "kernelspec": {
   "display_name": "LLM",
   "language": "python",
   "name": "python3"
  },
  "language_info": {
   "codemirror_mode": {
    "name": "ipython",
    "version": 3
   },
   "file_extension": ".py",
   "mimetype": "text/x-python",
   "name": "python",
   "nbconvert_exporter": "python",
   "pygments_lexer": "ipython3",
   "version": "3.10.14"
  }
 },
 "nbformat": 4,
 "nbformat_minor": 2
}
