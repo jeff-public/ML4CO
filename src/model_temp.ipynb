{
 "cells": [
  {
   "cell_type": "code",
   "execution_count": 1,
   "metadata": {},
   "outputs": [
    {
     "name": "stderr",
     "output_type": "stream",
     "text": [
      "c:\\Users\\zhay109\\.conda\\envs\\PyG-gpu\\lib\\site-packages\\tqdm\\auto.py:21: TqdmWarning: IProgress not found. Please update jupyter and ipywidgets. See https://ipywidgets.readthedocs.io/en/stable/user_install.html\n",
      "  from .autonotebook import tqdm as notebook_tqdm\n"
     ]
    }
   ],
   "source": [
    "import os\n",
    "import time\n",
    "import numpy as np\n",
    "import matplotlib.pyplot as plt\n",
    "import random\n",
    "import torch\n",
    "import torch.nn as nn\n",
    "from torch_geometric.loader import DataLoader\n",
    "from InterleavedGCNN import InterleavedGCNN\n",
    "from GraphDataset import GraphDataset\n",
    "from train_val_test import train\n",
    "from parentBCELoss import parentBCELoss"
   ]
  },
  {
   "cell_type": "markdown",
   "metadata": {},
   "source": [
    "#### Parent ILP"
   ]
  },
  {
   "cell_type": "code",
   "execution_count": 2,
   "metadata": {},
   "outputs": [],
   "source": [
    "# Load dataset\n",
    "train_dir = f'./../dataset/training/parent_graphs'\n",
    "train_data = GraphDataset(root=train_dir, data_list=[])\n",
    "parents_loader = DataLoader(train_data, batch_size=50, shuffle=True)"
   ]
  },
  {
   "cell_type": "code",
   "execution_count": 3,
   "metadata": {},
   "outputs": [
    {
     "data": {
      "text/plain": [
       "HeteroData(\n",
       "  name={ ILP='SC_1.mps' },\n",
       "  var_nodes={\n",
       "    x=[542, 3],\n",
       "    x_sub_opt=[542],\n",
       "    mask=[542],\n",
       "    prob_divisor=[1],\n",
       "    prob_dividend=[1],\n",
       "    prob=[1],\n",
       "  },\n",
       "  constr_nodes={ x=[449, 7] },\n",
       "  (var_nodes, in, constr_nodes)={\n",
       "    edge_index=[2, 4413],\n",
       "    edge_attr=[4413, 1],\n",
       "  },\n",
       "  (constr_nodes, rev_in, var_nodes)={\n",
       "    edge_index=[2, 4413],\n",
       "    edge_attr=[4413, 1],\n",
       "  }\n",
       ")"
      ]
     },
     "execution_count": 3,
     "metadata": {},
     "output_type": "execute_result"
    }
   ],
   "source": [
    "data = parents_loader.dataset[0]\n",
    "data"
   ]
  },
  {
   "cell_type": "markdown",
   "metadata": {},
   "source": [
    "#### Children ILP"
   ]
  },
  {
   "cell_type": "code",
   "execution_count": 4,
   "metadata": {},
   "outputs": [],
   "source": [
    "# Load dataset\n",
    "train_dir = f'./../dataset/training/children_graphs'\n",
    "train_data = GraphDataset(root=train_dir, data_list=[])\n",
    "children_loader = DataLoader(train_data, batch_size=50, shuffle=True)"
   ]
  },
  {
   "cell_type": "code",
   "execution_count": 5,
   "metadata": {},
   "outputs": [
    {
     "data": {
      "text/plain": [
       "HeteroData(\n",
       "  name='SC_10_children_ILP_0.15',\n",
       "  var_nodes={\n",
       "    x=[989, 3],\n",
       "    y=[989],\n",
       "    mask=[989],\n",
       "  },\n",
       "  constr_nodes={ x=[1378, 7] },\n",
       "  (var_nodes, in, constr_nodes)={\n",
       "    edge_index=[2, 13837],\n",
       "    edge_attr=[13837, 1],\n",
       "  },\n",
       "  (constr_nodes, rev_in, var_nodes)={\n",
       "    edge_index=[2, 13837],\n",
       "    edge_attr=[13837, 1],\n",
       "  }\n",
       ")"
      ]
     },
     "execution_count": 5,
     "metadata": {},
     "output_type": "execute_result"
    }
   ],
   "source": [
    "data = children_loader.dataset[0]\n",
    "data"
   ]
  },
  {
   "cell_type": "code",
   "execution_count": 6,
   "metadata": {},
   "outputs": [],
   "source": [
    "device = \"cuda\" if torch.cuda.is_available() else \"cpu\"\n",
    "hidden_channels = 64\n",
    "num_layers = 3"
   ]
  },
  {
   "cell_type": "code",
   "execution_count": 9,
   "metadata": {},
   "outputs": [],
   "source": [
    "model = InterleavedGCNN(\n",
    "    var_in_channels=children_loader.dataset[0][\"var_nodes\"].x.shape[1],\n",
    "    cons_in_channels=children_loader.dataset[0][\"constr_nodes\"].x.shape[1],\n",
    "    hidden_channels=hidden_channels,\n",
    "    num_layers=num_layers,\n",
    "    edge_attr_dim=1\n",
    ").to(device)\n",
    "\n",
    "# Define loss function and optimizer\n",
    "criterion = {\"children\": nn.BCELoss(),\n",
    "                \"parents\": nn.BCELoss()}\n",
    "optimizer = torch.optim.Adam(model.parameters(), lr=0.001)\n",
    "\n",
    "\n",
    "## Training and validation\n",
    "num_epochs = 100\n",
    "train_loss = []\n",
    "val_loss = []"
   ]
  },
  {
   "cell_type": "code",
   "execution_count": 10,
   "metadata": {},
   "outputs": [
    {
     "name": "stdout",
     "output_type": "stream",
     "text": [
      "Epoch: 01, Train Loss: 348.3437, Val Loss: 575.7019\n",
      "Epoch: 02, Train Loss: 284.5936, Val Loss: 566.5553\n",
      "Epoch: 03, Train Loss: 276.2597, Val Loss: 565.7458\n",
      "Epoch: 04, Train Loss: 270.3032, Val Loss: 565.2932\n",
      "Epoch: 05, Train Loss: 268.8210, Val Loss: 562.5443\n",
      "Epoch: 06, Train Loss: 268.3063, Val Loss: 562.7139\n",
      "Epoch: 07, Train Loss: 267.4504, Val Loss: 560.1022\n",
      "Epoch: 08, Train Loss: 267.3103, Val Loss: 556.7569\n",
      "Epoch: 09, Train Loss: 268.8058, Val Loss: 555.2390\n",
      "Epoch: 10, Train Loss: 266.6098, Val Loss: 555.7499\n",
      "Epoch: 11, Train Loss: 267.9171, Val Loss: 554.4834\n",
      "Epoch: 12, Train Loss: 263.8702, Val Loss: 554.8519\n",
      "Epoch: 13, Train Loss: 264.1782, Val Loss: 553.7269\n",
      "Epoch: 14, Train Loss: 265.7021, Val Loss: 553.9904\n",
      "Epoch: 15, Train Loss: 262.3757, Val Loss: 554.8988\n",
      "Epoch: 16, Train Loss: 263.8394, Val Loss: 554.4561\n",
      "Epoch: 17, Train Loss: 263.5106, Val Loss: 555.2837\n",
      "Epoch: 18, Train Loss: 261.5053, Val Loss: 554.1922\n",
      "Epoch: 19, Train Loss: 260.8078, Val Loss: 558.6567\n",
      "Epoch: 20, Train Loss: 262.3019, Val Loss: 559.7388\n",
      "Epoch: 21, Train Loss: 265.7206, Val Loss: 563.7182\n",
      "Epoch: 22, Train Loss: 261.8722, Val Loss: 560.7127\n",
      "Epoch: 23, Train Loss: 261.3786, Val Loss: 560.2993\n",
      "Epoch: 24, Train Loss: 259.6601, Val Loss: 562.1270\n",
      "Epoch: 25, Train Loss: 262.2795, Val Loss: 564.8102\n",
      "Epoch: 26, Train Loss: 260.1993, Val Loss: 560.7164\n",
      "Epoch: 27, Train Loss: 260.9586, Val Loss: 559.6284\n",
      "Epoch: 28, Train Loss: 260.1592, Val Loss: 560.0144\n",
      "Epoch: 29, Train Loss: 258.9817, Val Loss: 562.0197\n",
      "Epoch: 30, Train Loss: 264.5000, Val Loss: 563.9291\n",
      "Epoch: 31, Train Loss: 263.7011, Val Loss: 558.9379\n",
      "Epoch: 32, Train Loss: 251.7749, Val Loss: 558.3988\n",
      "Epoch: 33, Train Loss: 263.4650, Val Loss: 564.8809\n",
      "Epoch: 34, Train Loss: 264.9123, Val Loss: 566.4432\n",
      "Epoch: 35, Train Loss: 266.9429, Val Loss: 563.2380\n",
      "Epoch: 36, Train Loss: 264.2777, Val Loss: 559.4129\n",
      "Epoch: 37, Train Loss: 259.3490, Val Loss: 554.8811\n",
      "Epoch: 38, Train Loss: 255.7087, Val Loss: 553.6419\n",
      "Epoch: 39, Train Loss: 259.4139, Val Loss: 560.7219\n",
      "Epoch: 40, Train Loss: 264.2179, Val Loss: 562.0667\n",
      "Epoch: 41, Train Loss: 267.6029, Val Loss: 560.7832\n",
      "Epoch: 42, Train Loss: 261.5954, Val Loss: 556.0918\n",
      "Epoch: 43, Train Loss: 256.1689, Val Loss: 563.5989\n",
      "Epoch: 44, Train Loss: 268.6928, Val Loss: 565.2683\n",
      "Epoch: 45, Train Loss: 270.9181, Val Loss: 562.7580\n",
      "Epoch: 46, Train Loss: 268.9468, Val Loss: 557.8838\n",
      "Epoch: 47, Train Loss: 269.0058, Val Loss: 561.4309\n",
      "Epoch: 48, Train Loss: 267.8096, Val Loss: 561.5149\n",
      "Epoch: 49, Train Loss: 267.6901, Val Loss: 562.0098\n",
      "Epoch: 50, Train Loss: 267.0284, Val Loss: 561.2696\n",
      "Epoch: 51, Train Loss: 268.2187, Val Loss: 561.6238\n",
      "Epoch: 52, Train Loss: 268.6598, Val Loss: 561.0944\n",
      "Epoch: 53, Train Loss: 268.7347, Val Loss: 561.0347\n",
      "Epoch: 54, Train Loss: 268.2925, Val Loss: 560.4876\n",
      "Epoch: 55, Train Loss: 268.6322, Val Loss: 559.9285\n",
      "Epoch: 56, Train Loss: 267.4965, Val Loss: 560.6515\n",
      "Epoch: 57, Train Loss: 267.7541, Val Loss: 560.1880\n",
      "Epoch: 58, Train Loss: 267.2945, Val Loss: 560.0052\n",
      "Epoch: 59, Train Loss: 267.5695, Val Loss: 560.0620\n",
      "Epoch: 60, Train Loss: 267.4227, Val Loss: 559.7445\n",
      "Epoch: 61, Train Loss: 267.4680, Val Loss: 559.0179\n",
      "Epoch: 62, Train Loss: 266.5416, Val Loss: 559.5157\n",
      "Epoch: 63, Train Loss: 266.3466, Val Loss: 559.9243\n",
      "Epoch: 64, Train Loss: 266.5489, Val Loss: 559.7555\n",
      "Epoch: 65, Train Loss: 266.9451, Val Loss: 559.6078\n",
      "Epoch: 66, Train Loss: 267.2351, Val Loss: 559.4476\n",
      "Epoch: 67, Train Loss: 267.0492, Val Loss: 558.5268\n",
      "Epoch: 68, Train Loss: 267.6116, Val Loss: 558.7926\n",
      "Epoch: 69, Train Loss: 267.0412, Val Loss: 558.9733\n",
      "Epoch: 70, Train Loss: 266.6601, Val Loss: 558.5330\n",
      "Epoch: 71, Train Loss: 266.2112, Val Loss: 558.7711\n",
      "Epoch: 72, Train Loss: 266.2144, Val Loss: 559.3771\n",
      "Epoch: 73, Train Loss: 266.0148, Val Loss: 558.9680\n",
      "Epoch: 74, Train Loss: 266.0671, Val Loss: 558.8639\n",
      "Epoch: 75, Train Loss: 266.5342, Val Loss: 558.4428\n",
      "Epoch: 76, Train Loss: 266.0675, Val Loss: 559.6556\n",
      "Epoch: 77, Train Loss: 265.7944, Val Loss: 558.5372\n",
      "Epoch: 78, Train Loss: 265.7550, Val Loss: 558.5178\n",
      "Epoch: 79, Train Loss: 265.4503, Val Loss: 558.4536\n",
      "Epoch: 80, Train Loss: 265.4739, Val Loss: 558.4266\n",
      "Epoch: 81, Train Loss: 265.3947, Val Loss: 557.9987\n",
      "Epoch: 82, Train Loss: 265.2386, Val Loss: 558.6751\n",
      "Epoch: 83, Train Loss: 264.6446, Val Loss: 558.4571\n",
      "Epoch: 84, Train Loss: 265.3625, Val Loss: 558.6828\n",
      "Epoch: 85, Train Loss: 264.9897, Val Loss: 557.9891\n",
      "Epoch: 86, Train Loss: 265.4841, Val Loss: 558.0576\n",
      "Epoch: 87, Train Loss: 265.0897, Val Loss: 557.6349\n",
      "Epoch: 88, Train Loss: 265.1655, Val Loss: 558.0624\n",
      "Epoch: 89, Train Loss: 265.4828, Val Loss: 557.4410\n",
      "Epoch: 90, Train Loss: 265.6290, Val Loss: 557.1830\n",
      "Epoch: 91, Train Loss: 265.4713, Val Loss: 556.9631\n",
      "Epoch: 92, Train Loss: 265.5881, Val Loss: 557.2163\n",
      "Epoch: 93, Train Loss: 264.8814, Val Loss: 556.4270\n",
      "Epoch: 94, Train Loss: 265.1198, Val Loss: 557.6648\n",
      "Epoch: 95, Train Loss: 265.0756, Val Loss: 557.7992\n",
      "Epoch: 96, Train Loss: 264.4350, Val Loss: 557.2405\n",
      "Epoch: 97, Train Loss: 266.5287, Val Loss: 557.4224\n",
      "Epoch: 98, Train Loss: 264.0061, Val Loss: 558.4134\n",
      "Epoch: 99, Train Loss: 264.7114, Val Loss: 559.0083\n",
      "Epoch: 100, Train Loss: 263.8640, Val Loss: 558.6511\n"
     ]
    }
   ],
   "source": [
    "for epoch in range(1, num_epochs + 1):\n",
    "    losses = train(model = model, children_loader = children_loader, \n",
    "                    parents_loader = parents_loader, \n",
    "                    children_criterion = criterion[\"children\"],\n",
    "                    parents_criterion = criterion[\"parents\"],\n",
    "                    optimizer = optimizer, device = device)\n",
    "    train_loss.append(losses[0])\n",
    "    val_loss.append(losses[1])\n",
    "    print(f\"Epoch: {epoch:02d}, Train Loss: {losses[0]:.4f}, Val Loss: {losses[1]:.4f}\")"
   ]
  },
  {
   "cell_type": "code",
   "execution_count": 11,
   "metadata": {},
   "outputs": [
    {
     "data": {
      "image/png": "[encoded data removed]",
      "text/plain": [
       "<Figure size 400x300 with 1 Axes>"
      ]
     },
     "metadata": {},
     "output_type": "display_data"
    }
   ],
   "source": [
    "# Save the model\n",
    "torch.save(model, \"./../models/BCE_for_both.pt\")\n",
    "\n",
    "\n",
    "# Save loss plot\n",
    "plt.figure(figsize=(4, 3))\n",
    "plt.plot(train_loss, label=\"Training loss\")\n",
    "plt.plot(val_loss, label=\"Validation loss\")\n",
    "plt.xlabel(\"Epcohs\")\n",
    "plt.ylabel(\"BCE loss\")\n",
    "plt.yscale(\"log\")\n",
    "plt.legend()\n",
    "plt.tight_layout()\n",
    "\n",
    "plt.savefig(\"./BCE_for_both.png\")\n",
    "plt.show()\n",
    "plt.close(\"all\")"
   ]
  }
 ],
 "metadata": {
  "kernelspec": {
   "display_name": "LLM",
   "language": "python",
   "name": "python3"
  },
  "language_info": {
   "codemirror_mode": {
    "name": "ipython",
    "version": 3
   },
   "file_extension": ".py",
   "mimetype": "text/x-python",
   "name": "python",
   "nbconvert_exporter": "python",
   "pygments_lexer": "ipython3",
   "version": "3.10.0"
  }
 },
 "nbformat": 4,
 "nbformat_minor": 2
}
