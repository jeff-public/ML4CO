{
 "cells": [
  {
   "cell_type": "code",
   "execution_count": 3,
   "metadata": {},
   "outputs": [],
   "source": [
    "import os\n",
    "import time\n",
    "import numpy as np\n",
    "import matplotlib.pyplot as plt\n",
    "import random\n",
    "import torch\n",
    "import torch.nn as nn\n",
    "from torch_geometric.loader import DataLoader\n",
    "from InterleavedGCNN import InterleavedGCNN\n",
    "from GraphDataset import GraphDataset"
   ]
  },
  {
   "cell_type": "code",
   "execution_count": 7,
   "metadata": {},
   "outputs": [],
   "source": [
    "# Load dataset\n",
    "train_dir = f'./../dataset/training/parent_graphs'\n",
    "train_data = GraphDataset(root=train_dir, data_list=[])\n",
    "train_size = int(len(train_data) * 0.9)\n",
    "train_loader = DataLoader(train_data[:train_size], batch_size=1, shuffle=True)\n",
    "val_loader = DataLoader(train_data[train_size:], batch_size=1, shuffle=True)"
   ]
  },
  {
   "cell_type": "code",
   "execution_count": 21,
   "metadata": {},
   "outputs": [
    {
     "data": {
      "text/plain": [
       "HeteroData(\n",
       "  var_nodes={\n",
       "    x=[1576, 2],\n",
       "    denominator=[1],\n",
       "    ILP='SC_8.mps',\n",
       "  },\n",
       "  constr_nodes={ x=[2008, 6] },\n",
       "  (var_nodes, in, constr_nodes)={\n",
       "    edge_index=[2, 20191],\n",
       "    edge_attr=[20191, 1],\n",
       "  },\n",
       "  (constr_nodes, rev_in, var_nodes)={\n",
       "    edge_index=[2, 20191],\n",
       "    edge_attr=[20191, 1],\n",
       "  }\n",
       ")"
      ]
     },
     "execution_count": 21,
     "metadata": {},
     "output_type": "execute_result"
    }
   ],
   "source": [
    "data = train_loader.dataset[8]\n",
    "data"
   ]
  },
  {
   "cell_type": "code",
   "execution_count": 19,
   "metadata": {},
   "outputs": [
    {
     "data": {
      "text/plain": [
       "tensor([76.6145])"
      ]
     },
     "execution_count": 19,
     "metadata": {},
     "output_type": "execute_result"
    }
   ],
   "source": [
    "data[\"var_nodes\"].denominator"
   ]
  }
 ],
 "metadata": {
  "kernelspec": {
   "display_name": "PyG-gpu",
   "language": "python",
   "name": "python3"
  },
  "language_info": {
   "codemirror_mode": {
    "name": "ipython",
    "version": 3
   },
   "file_extension": ".py",
   "mimetype": "text/x-python",
   "name": "python",
   "nbconvert_exporter": "python",
   "pygments_lexer": "ipython3",
   "version": "3.10.14"
  }
 },
 "nbformat": 4,
 "nbformat_minor": 2
}
